{
  "nbformat": 4,
  "nbformat_minor": 0,
  "metadata": {
    "colab": {
      "provenance": [],
      "authorship_tag": "ABX9TyM8+FOWyQqONfAYhZuR72js"
    },
    "kernelspec": {
      "name": "python3",
      "display_name": "Python 3"
    },
    "language_info": {
      "name": "python"
    }
  },
  "cells": [
    {
      "cell_type": "code",
      "source": [
        "## requirements"
      ],
      "metadata": {
        "id": "RRj8wUi5YpqQ"
      },
      "execution_count": null,
      "outputs": []
    },
    {
      "cell_type": "code",
      "source": [
        "# !pip install azure\n",
        "# !pip install azure-kusto-data\n",
        "# !pip install azure-kusto-ingest\n"
      ],
      "metadata": {
        "id": "g10XZIpyXFqL"
      },
      "execution_count": null,
      "outputs": []
    },
    {
      "cell_type": "code",
      "execution_count": 8,
      "metadata": {
        "id": "cocEhMoXW_pK"
      },
      "outputs": [],
      "source": [
        "import pandas as pd\n",
        "import numpy as np\n",
        "from azure.kusto.data import KustoClient, KustoConnectionStringBuilder, ClientRequestProperties\n",
        "from azure.kusto.data.exceptions import KustoServiceError\n",
        "from azure.kusto.ingest import  QueuedIngestClient,IngestionProperties\n",
        "from azure.kusto.data.helpers import dataframe_from_result_table"
      ]
    },
    {
      "cell_type": "code",
      "source": [
        "cluster= \"https://<ClusterName>.<Region>.kusto.windows.net/\"\n",
        "ingest_uri=\"https://ingest-<ClusterName>.<Region>.kusto.windows.net/\"\n",
        "# aap_id=\"\"\n",
        "database_name=\"<database_name>\"\n",
        "app_id=\"app_id\"\n",
        "client_secret=\"secret\"\n",
        "tenant_id=\"xxxxxxxx-xxxx-xxxx-xxxx-xxxxxxxxxxx\"\n",
        "subscription_id=\"xxxxxxxx-xxxx-xxxx-xxxx-xxxxxxxxxxxx\""
      ],
      "metadata": {
        "id": "RzSuPWlxXOgx"
      },
      "execution_count": null,
      "outputs": []
    },
    {
      "cell_type": "code",
      "source": [
        "kcsb_ingest=KustoConnectionStringBuilder.with_aad_application_key_authentication(ingest_uri, app_id, client_secret, tenant_id)\n",
        "kcsb_data = KustoConnectionStringBuilder.with_aad_application_key_authentication(cluster, app_id, client_secret, tenant_id)\n",
        "kusto_client = KustoClient(kcsb_data)\n",
        "kusto_client_ingest=KustoClient(kcsb_ingest)\n",
        "create_table_cmd = \".create table testEvents (StartTime: datetime, EndTime: datetime, Id: int, State: string)\"\n"
      ],
      "metadata": {
        "id": "td9NxRnnYX6U"
      },
      "execution_count": null,
      "outputs": []
    },
    {
      "cell_type": "code",
      "source": [
        "## Data projection "
      ],
      "metadata": {
        "id": "G1iyMpDVZBeU"
      },
      "execution_count": null,
      "outputs": []
    },
    {
      "cell_type": "code",
      "source": [
        "\n",
        "select_query=\"<table_name> | sort by serial_id desc | take 10\"\n",
        "# execute command\n",
        "select_response =kusto_client.execute(database_name, select_query)\n",
        "\n",
        "df_app_select = dataframe_from_result_table(select_response.primary_results[0])\n",
        "df_app_select"
      ],
      "metadata": {
        "id": "uls4VmjxZJzv"
      },
      "execution_count": null,
      "outputs": []
    },
    {
      "cell_type": "code",
      "source": [
        "## Insert command"
      ],
      "metadata": {
        "id": "KZZvIdZyZdmq"
      },
      "execution_count": null,
      "outputs": []
    },
    {
      "cell_type": "code",
      "source": [
        "df_sample_table= df_app_select[[\"date_end\",\"date_start\",\"id\"]]\n",
        "\n",
        "# kusto client insert\n",
        "kcsb_insert = KustoConnectionStringBuilder.with_aad_application_key_authentication(connection_string=ingest_uri, aad_app_id=app_id, app_key=client_secret, authority_id=tenant_id)\n",
        "adx_client = QueuedIngestClient(kcsb_insert)\n",
        "ingestion_props = IngestionProperties(database=database_name,table=['sample'])\n",
        "\n",
        "adx_client.ingest_from_dataframe(df_sample_table, ingestion_properties=ingestion_props)"
      ],
      "metadata": {
        "id": "mc7aGVjTZehx"
      },
      "execution_count": null,
      "outputs": []
    }
  ]
}